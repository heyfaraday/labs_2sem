{
 "cells": [
  {
   "cell_type": "code",
   "execution_count": 1,
   "metadata": {
    "collapsed": false
   },
   "outputs": [],
   "source": [
    "import math \n",
    "data_x=[5, 0, 1.0, 2.0, 3.0, 4.0] \n",
    "data_y=[5, 0, 4.9, 10.2, 15.1, 20.1]\n",
    "data_yerr=[4, 0, 0.1, 0.1, 0.1, 0.1]\n",
    "data_xerr=[4, 0.0, 0.0, 0.0, 0.0, 0.0]"
   ]
  },
  {
   "cell_type": "markdown",
   "metadata": {},
   "source": [
    "$$Standard~deviation~y~is:~~ err_y{(w_0, w_1)}=\\sum\\limits_{i=1}^n [(y_i-w_0-{w_1}x_i)^2+{\\sigma_y}^2+{w_1\\sigma_x}^2] $$ "
   ]
  },
  {
   "cell_type": "code",
   "execution_count": 2,
   "metadata": {
    "collapsed": false
   },
   "outputs": [],
   "source": [
    "def err_y(w): \n",
    "    sum = 0.0\n",
    "    i = 1\n",
    "    n = data_x[0] \n",
    "    while i <= n:\n",
    "        sum=sum+(((data_y[i]-(w[0]+w[1]*data_x[i]))**2)+((data_yerr[i])**2) +\n",
    "                     ((w[1]*data_xerr[i])**2));\n",
    "        i=i+1\n",
    "    return sum"
   ]
  },
  {
   "cell_type": "code",
   "execution_count": 3,
   "metadata": {
    "collapsed": false
   },
   "outputs": [
    {
     "name": "stdout",
     "output_type": "stream",
     "text": [
      "[-0.01999998  5.03999999]\n",
      "sigma y = 0.0616441400297\n"
     ]
    }
   ],
   "source": [
    "import scipy.optimize as opt\n",
    "x0 = [5, 200]\n",
    "bnds = [[-100,100], [0, 20]]\n",
    "turp = opt.minimize(err_y, x0, method = 'L-BFGS-B', bounds=bnds)\n",
    "print turp.x\n",
    "print 'sigma y =', math.sqrt(err_y(turp.x)/((data_x[0]-1)*(data_x[0])))"
   ]
  },
  {
   "cell_type": "code",
   "execution_count": 4,
   "metadata": {
    "collapsed": true
   },
   "outputs": [],
   "source": [
    "def average(arr, k):\n",
    "    av = 0.0\n",
    "    iv = 1\n",
    "    n = data_x[0]\n",
    "    while iv<=n:\n",
    "        av = av + (arr[iv])**k\n",
    "        iv=iv+1\n",
    "    av = av/n\n",
    "    return av "
   ]
  },
  {
   "cell_type": "markdown",
   "metadata": {},
   "source": [
    "$$Standard~deviation~w_i~is:~~ \\sigma_{w_i\\neq0}{(w_0, w_1, i)}=\\frac{1}{\\sqrt{n}}\\sqrt{{\\frac{\\langle{y^2}\\rangle-\\langle{y}\\rangle^2}{\\langle{x^{2i}}\\rangle-\\langle{x^i}\\rangle^2}-w_i^2}} $$ \n",
    "$$Standart~deviation~w_0~is:~~ \\sigma_{w_0}=\\sqrt{\\langle{x^2}\\rangle-\\langle{x}\\rangle^2}~\\sqrt{\\sum\\limits_{i=1}i^2{\\sigma_{w_i}}^2}$$"
   ]
  },
  {
   "cell_type": "code",
   "execution_count": 5,
   "metadata": {
    "collapsed": false
   },
   "outputs": [],
   "source": [
    "def sigma_wi(w, i):\n",
    "    \n",
    "    k = 1 # - the degree of regression indicator, good variant is taking function\n",
    "    j = 0 \n",
    "    sigma_w = []\n",
    "    \n",
    "    while j<=k:\n",
    "        sigma_w.append(0)\n",
    "        j=j+1\n",
    "        \n",
    "    j = 1\n",
    "    while (j<=k):\n",
    "        sigma_w[j] = (math.fabs(((average(data_y,2)-(average(data_y, 1))**2)/\n",
    "                          (average(data_x, 2*j)-(average(data_x, j))**2))-(w[j]**2)))/(data_x[0])\n",
    "        j=j+1\n",
    "    j = 1\n",
    "    while (j<=k):\n",
    "        sigma_w[0] = sigma_w[0] + ((sigma_w[j])**2*j**2)*((average(data_x, 2*j)-\n",
    "                                                           (average(data_x, j))**2))\n",
    "        j=j+1\n",
    "        \n",
    "    return math.sqrt((sigma_w[i]))"
   ]
  },
  {
   "cell_type": "code",
   "execution_count": 6,
   "metadata": {
    "collapsed": false
   },
   "outputs": [
    {
     "name": "stdout",
     "output_type": "stream",
     "text": [
      "sigma w0 =  0.0010182676766\n",
      "sigma w1 =  0.026833262552\n"
     ]
    }
   ],
   "source": [
    "print 'sigma w0 = ', sigma_wi(turp.x, 0)\n",
    "print 'sigma w1 = ', sigma_wi(turp.x, 1)"
   ]
  },
  {
   "cell_type": "markdown",
   "metadata": {},
   "source": [
    "$$Pearson's~chi-squared~test:~~ \\chi{(w_0, w_1)}=\\sum\\limits_{i=2}^n \\frac{[(y_i-w_0-{w_1}x_i)^2+{\\sigma_y}^2+{w_1\\sigma_x}^2]}{(w_0+{w_1}x_i)}$$ "
   ]
  },
  {
   "cell_type": "code",
   "execution_count": 7,
   "metadata": {
    "collapsed": false
   },
   "outputs": [],
   "source": [
    "def chi(w): #turple\n",
    "    sum = 0.0\n",
    "    i = 2\n",
    "    n = data_x[0] \n",
    "    while i <= n:\n",
    "        if (data_x[i]*w[1]+w[0]) != 0:\n",
    "            sum=sum+(((data_y[i]-(w[0]+w[1]*data_x[i]))**2)+((data_yerr[i])**2) +\n",
    "                     ((w[1]*data_xerr[i])**2))/(w[0]+w[1]*data_x[i])\n",
    "        i=i+1\n",
    "    return sum"
   ]
  },
  {
   "cell_type": "code",
   "execution_count": 8,
   "metadata": {
    "collapsed": false
   },
   "outputs": [
    {
     "name": "stdout",
     "output_type": "stream",
     "text": [
      "chi =  0.00904112396545\n"
     ]
    }
   ],
   "source": [
    "print 'chi = ', chi(turp.x)"
   ]
  }
 ],
 "metadata": {
  "kernelspec": {
   "display_name": "Python 2",
   "language": "python",
   "name": "python2"
  },
  "language_info": {
   "codemirror_mode": {
    "name": "ipython",
    "version": 2
   },
   "file_extension": ".py",
   "mimetype": "text/x-python",
   "name": "python",
   "nbconvert_exporter": "python",
   "pygments_lexer": "ipython2",
   "version": "2.7.11"
  }
 },
 "nbformat": 4,
 "nbformat_minor": 0
}
