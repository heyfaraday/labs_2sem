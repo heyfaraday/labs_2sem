{
 "cells": [
  {
   "cell_type": "code",
   "execution_count": 81,
   "metadata": {
    "collapsed": false
   },
   "outputs": [],
   "source": [
    "%matplotlib inline\n",
    "import math\n",
    "import numpy as np\n",
    "import pandas as pd\n",
    "import scipy.optimize as opt\n",
    "from matplotlib import pylab as plt\n",
    "\n",
    "wine = pd.read_csv('Tup.csv', sep=',', header=0)\n",
    "wine = wine.sample(frac=1)\n",
    "\n",
    "source_data_H1 = wine.H1\n",
    "source_data_H2 = wine.H2\n",
    "source_data_T = wine.Temp\n",
    "\n",
    "data_H1 = np.array(source_data_H1, dtype=float)    #source numpy array \n",
    "data_H2 = np.array(source_data_H2, dtype=float)\n",
    "data_T = np.array(source_data_T, dtype=float)\n",
    "\n",
    "\"\"\"source_data_H1 = [4.77, 4.81, 4.65, 4.63, 4.56, 4.48, 4.40, 4.36, 4.27,  #temp up\n",
    "                  4.12, 4.01, 3.91, 3.79, 3.67, 3.58, 3.41, 3.31]    #source list\n",
    "source_data_H2 = [7.13, 7.20, 7.22, 7.34, 7.45, 7.51, 7.60, 7.71, 7.81,\n",
    "                  7.89, 8.01, 8.17, 8.28, 8.37, 8.50, 8.66, 8.75]\n",
    "source_data_T = [24.0, 25.0, 26.0, 27.0, 28.0, 29.0, 30.0, 31.0, 32.0, \n",
    "                 33.0, 34.0, 35.0, 36.0, 37.0, 38.0, 39.0, 40.0] \n",
    "\n",
    "source_data_H1 = [4.67, 4.62, 4.43, 4.41, 4.17, 4.15, 4.14, 4.18, 3.93, #temp down\n",
    "                  3.62, 3.51, 3.34, 3.29]    #source list\n",
    "source_data_H2 = [7.28, 7.41, 7.51, 7.60, 7.66, 7.80, 7.79, 7.85, 7.72,\n",
    "                  8.23, 8.47, 8.61, 8.89]\n",
    "source_data_T = [25.0, 26.0, 28.0, 29.0, 30.0, 31.0, 32.0, \n",
    "                 33.0, 35.0, 36.0, 38.0, 39.0, 40.0] \"\"\"\n",
    "\n",
    "\n",
    "\"\"\"data_H1 = np.array(source_data_H1, dtype=float)    #source numpy array \n",
    "data_H2 = np.array(source_data_H2, dtype=float)\n",
    "data_T = np.array(source_data_T, dtype=float) \"\"\"\n",
    "\n",
    "data_T = data_T + 273.15\n",
    "data_H = data_H2 - data_H1\n",
    "\n",
    "source_data_Herr=[0.01]    #error list\n",
    "source_data_Terr=[0.2]\n",
    "\n",
    "data_Herr = np.array(source_data_Herr)    #error numpy array\n",
    "data_Terr = np.array(source_data_Terr)"
   ]
  },
  {
   "cell_type": "code",
   "execution_count": 82,
   "metadata": {
    "collapsed": false
   },
   "outputs": [],
   "source": [
    "data_lnH = np.log(data_H)\n",
    "data_1devT = np.reciprocal(data_T)\n",
    "data_lnHerr = np.reciprocal(data_H)*data_Herr[0]\n",
    "data_1devTerr = np.reciprocal(data_1devT**2)*data_Terr[0]"
   ]
  },
  {
   "cell_type": "markdown",
   "metadata": {},
   "source": [
    "$$Standard~deviation~y~is:~~ err_y{(w_0, w_1)}=\\sqrt{\\sum\\limits_{i=1}^n [(y_i-w_0-{w_1}x_i)^2]} $$ "
   ]
  },
  {
   "cell_type": "code",
   "execution_count": 83,
   "metadata": {
    "collapsed": false
   },
   "outputs": [],
   "source": [
    "def err_y(w):\n",
    "    \n",
    "    sum = 0.0\n",
    "    i = 0\n",
    "    n = data_lnH.size if data_lnH.size <= data_1devT.size else data_1devT.size\n",
    "    \n",
    "    while i <= n-1:\n",
    "        \n",
    "        sum = sum + ((data_lnH[i]-w[0]-w[1]*data_1devT[i])**2) \n",
    "        \n",
    "        i=i+1\n",
    "    return sum"
   ]
  },
  {
   "cell_type": "code",
   "execution_count": 84,
   "metadata": {
    "collapsed": false
   },
   "outputs": [
    {
     "name": "stdout",
     "output_type": "stream",
     "text": [
      "[   17.86099953 -5060.64468745]\n",
      "randomize sigma y = 0.000159171815768\n"
     ]
    }
   ],
   "source": [
    "x0 = [3.0, 50.0]\n",
    "bnds = [[-100, 100.0], [-10000.0, -40.0]]\n",
    "turp = opt.minimize(err_y, x0, method = 'L-BFGS-B', bounds=bnds)\n",
    "print turp.x\n",
    "\n",
    "n = data_lnH.size if data_lnH.size <= data_1devT.size else data_1devT.size\n",
    "\n",
    "print 'randomize sigma y =', math.sqrt(err_y(turp.x))/(n*(n-1))"
   ]
  },
  {
   "cell_type": "code",
   "execution_count": 15,
   "metadata": {
    "collapsed": false
   },
   "outputs": [],
   "source": [
    "def average(arr):\n",
    "    av = 0.0\n",
    "    iv = 0\n",
    "    n = arr.size-1\n",
    "    while iv<=n:\n",
    "        av = av + (arr[iv])\n",
    "        iv=iv+1\n",
    "    av = av/n\n",
    "    return av "
   ]
  },
  {
   "cell_type": "markdown",
   "metadata": {},
   "source": [
    "$$Standard~randomize~deviation~w_1~is:~~ \\sigma_{w_1}{(w_0, w_1)}=\\frac{1}{\\sqrt{n}}\\sqrt{{\\frac{\\langle{y^2}\\rangle-\\langle{y}\\rangle^2}{\\langle{x^{2}}\\rangle-\\langle{x}\\rangle^2}-w_1^2}} $$ \n",
    "$$Standart~randomize~deviation~w_0~is:~~ \\sigma_{w_0}{(w_0, w_1)}=\\sigma_{w_1}{(w_0, w_1)}\\sqrt{\\langle{x^2}\\rangle-\\langle{x}\\rangle^2}$$"
   ]
  },
  {
   "cell_type": "code",
   "execution_count": 16,
   "metadata": {
    "collapsed": false,
    "scrolled": false
   },
   "outputs": [],
   "source": [
    "def sigma_w(w): #randomize deviation\n",
    "    \n",
    "    sigma__w = [0, 0]\n",
    "    n = data_lnH.size if data_lnH.size <= data_1devT.size else data_1devT.size\n",
    "        \n",
    "    sigma__w[1] = math.sqrt(math.fabs((((average(data_lnH**2)-average(data_lnH)**2)/\n",
    "                             (average(data_1devT**2)-(average(data_1devT))**2))-w[1]**2)/n))\n",
    "    sigma__w[0] = sigma__w[1]*math.sqrt(math.fabs(average(data_1devT**2)-(average(data_1devT))**2))\n",
    "    \n",
    "    return (sigma__w)"
   ]
  },
  {
   "cell_type": "code",
   "execution_count": 17,
   "metadata": {
    "collapsed": false
   },
   "outputs": [],
   "source": [
    "def sigma_wf(w): #randromize + statistical deviation\n",
    "    \n",
    "    sigma__wf = []\n",
    "    j=0\n",
    "    n = data_lnH.size if data_lnH.size <= data_1devT.size else data_1devT.size\n",
    "    while j<=n-1:\n",
    "        sigma__wf.append(0)\n",
    "        j=j+1\n",
    "        \n",
    "    k = 0\n",
    "    \n",
    "    while k <= n-1:\n",
    "        sigma__wf[k] = math.sqrt((data_lnHerr[k]/data_lnH[k])**2+(data_1devTerr[k]/data_1devT[k])**2)\n",
    "        k = k + 1\n",
    "    \n",
    "    sigma__stat = average(np.array(sigma__wf))\n",
    "    \n",
    "    sigma__wf[1] = w[1]*sigma__stat\n",
    "    \n",
    "    sigma__w = [0, 0]\n",
    "        \n",
    "    sigma__w[1] = math.sqrt(math.fabs((((average(data_lnH**2)-average(data_lnH)**2)/\n",
    "                             (average(data_1devT**2)-(average(data_1devT))**2))-w[1]**2)/n))\n",
    "    sigma__w[1] = math.sqrt(sigma__wf[1]**2+sigma__w[1]**2)\n",
    "    sigma__w[0] = sigma__w[1]*math.sqrt(math.fabs(average(data_1devT**2)-(average(data_1devT))**2))\n",
    "    \n",
    "    return (sigma__w)"
   ]
  },
  {
   "cell_type": "code",
   "execution_count": 18,
   "metadata": {
    "collapsed": false
   },
   "outputs": [
    {
     "name": "stdout",
     "output_type": "stream",
     "text": [
      "sigma rand =  [1.2209693463605367, 1243.3620908366986]\n",
      "sigma full =  [1.2210190287060736, 1243.4126843632343]\n"
     ]
    }
   ],
   "source": [
    "print 'sigma rand = ', sigma_w(turp.x)\n",
    "print 'sigma full = ', sigma_wf(turp.x)"
   ]
  },
  {
   "cell_type": "markdown",
   "metadata": {},
   "source": [
    "$$Pearson's~chi-squared~test:~~ \\chi{(w_0, w_1)}=\\sum\\limits_{i=2}^n \\frac{[(y_i-w_0-{w_1}x_i)^2+{\\sigma_y}^2+{w_1\\sigma_x}^2]}{(w_0+{w_1}x_i)}$$ "
   ]
  },
  {
   "cell_type": "code",
   "execution_count": 9,
   "metadata": {
    "collapsed": false
   },
   "outputs": [],
   "source": [
    "def chi(w): #turple #not work\n",
    "    sum = 0.0\n",
    "    i = 0\n",
    "    n = data_lnH.size if data_lnH.size <= data_1devT.size else data_1devT.size\n",
    "    while i <= n-1:\n",
    "        if (data_1devT[i]*w[1]+w[0]) != 0:\n",
    "            sum=sum+(((data_lnH[i]-(w[0]+w[1]*data_1devT[i]))**2)+((data_lnHerr[i])**2) +\n",
    "                     ((w[1]*data_1devTerr[i])**2))/(w[0]+w[1]*data_1devT[i])\n",
    "        i=i+1\n",
    "    return sum"
   ]
  },
  {
   "cell_type": "code",
   "execution_count": 10,
   "metadata": {
    "collapsed": false
   },
   "outputs": [
    {
     "name": "stdout",
     "output_type": "stream",
     "text": [
      "chi =  0.0036818656006\n"
     ]
    }
   ],
   "source": [
    "print 'chi = ', chi(turp.x)"
   ]
  },
  {
   "cell_type": "code",
   "execution_count": null,
   "metadata": {
    "collapsed": true
   },
   "outputs": [],
   "source": []
  }
 ],
 "metadata": {
  "kernelspec": {
   "display_name": "Python 2",
   "language": "python",
   "name": "python2"
  },
  "language_info": {
   "codemirror_mode": {
    "name": "ipython",
    "version": 2
   },
   "file_extension": ".py",
   "mimetype": "text/x-python",
   "name": "python",
   "nbconvert_exporter": "python",
   "pygments_lexer": "ipython2",
   "version": "2.7.11"
  }
 },
 "nbformat": 4,
 "nbformat_minor": 0
}
