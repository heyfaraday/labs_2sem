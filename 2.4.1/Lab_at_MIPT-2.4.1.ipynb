{
 "cells": [
  {
   "cell_type": "code",
   "execution_count": 167,
   "metadata": {
    "collapsed": false
   },
   "outputs": [
    {
     "name": "stdout",
     "output_type": "stream",
     "text": [
      "Populating the interactive namespace from numpy and matplotlib\n"
     ]
    }
   ],
   "source": [
    "# Здесь будет существовать некоторая версия программы для обработки экпериментальных данных\n",
    "# На начальный момент самая работающая версия программы: lab 2.4.1.ipynb\n",
    "\n",
    "%matplotlib inline\n",
    "%pylab inline"
   ]
  },
  {
   "cell_type": "code",
   "execution_count": 168,
   "metadata": {
    "collapsed": true
   },
   "outputs": [],
   "source": [
    "from sklearn import cross_validation, linear_model, metrics\n",
    "import numpy as np\n",
    "import pandas as pd"
   ]
  },
  {
   "cell_type": "code",
   "execution_count": 169,
   "metadata": {
    "collapsed": false
   },
   "outputs": [],
   "source": [
    "# Считывание данных\n",
    "\n",
    "source_data = pd.read_csv('Tup.csv', sep=',', header=0) #source_data.csv\n",
    "source_data = source_data.sample(frac=1)"
   ]
  },
  {
   "cell_type": "code",
   "execution_count": 170,
   "metadata": {
    "collapsed": false
   },
   "outputs": [],
   "source": [
    "# Кусок для получения измерений\n",
    "\n",
    "source_data_1 = source_data.H1\n",
    "source_data_2 = source_data.H2\n",
    "source_data_3 = source_data.Temp"
   ]
  },
  {
   "cell_type": "code",
   "execution_count": 171,
   "metadata": {
    "collapsed": false
   },
   "outputs": [],
   "source": [
    "# Кусок для подгона полученных измерений под тип данных\n",
    "\n",
    "data_1 = np.array(source_data_1, dtype=float)     \n",
    "data_2 = np.array(source_data_2, dtype=float)\n",
    "data_3 = np.array(source_data_3, dtype=float)"
   ]
  },
  {
   "cell_type": "code",
   "execution_count": 172,
   "metadata": {
    "collapsed": false
   },
   "outputs": [
    {
     "name": "stdout",
     "output_type": "stream",
     "text": [
      "[ 0.00319336  0.00326637  0.00324517  0.0032987   0.00335402  0.00323468\n",
      "  0.0033206   0.00321388  0.00328785  0.00327708  0.00320359  0.00325574\n",
      "  0.0033428   0.00322425  0.00333167  0.00330961  0.0033653 ]\n",
      "[ 1.69377906  1.327075    1.44926916  1.16315081  0.87129337  1.5018527\n",
      "  1.0612565   1.59330853  1.20896035  1.26412673  1.65822808  1.38629436\n",
      "  0.9439059   1.54756251  0.99694863  1.10856262  0.85866162]\n"
     ]
    }
   ],
   "source": [
    "# Кусок для подгона полученных измерений под апроксимацию\n",
    "\n",
    "data_y = data_2 - data_1\n",
    "data_x = data_3 + 273.15\n",
    "\n",
    "data_y = np.log(data_y)\n",
    "data_x = np.reciprocal(data_x)\n",
    "\n",
    "print data_x\n",
    "print data_y"
   ]
  },
  {
   "cell_type": "code",
   "execution_count": 173,
   "metadata": {
    "collapsed": false
   },
   "outputs": [],
   "source": [
    "# Кусок для получения ошибки измерений\n",
    "\n",
    "#  source_data_error_1 = \n",
    "# source_data_error_2 = \n",
    "# source_data_error_3 = "
   ]
  },
  {
   "cell_type": "code",
   "execution_count": 174,
   "metadata": {
    "collapsed": false
   },
   "outputs": [],
   "source": [
    "# Кусок для подгона полученных ошибок измерений под тип данных (подумать о глубокой реализации)\n",
    "\n",
    "# data_error_x = \n",
    "# data_error_y = "
   ]
  },
  {
   "cell_type": "code",
   "execution_count": 175,
   "metadata": {
    "collapsed": false
   },
   "outputs": [],
   "source": [
    "# Подгон формата данных под работу\n",
    "\n",
    "data_x = np.array(data_x).reshape((len(data_x), 1))\n",
    "\n",
    "# Для многомерной регрессии\n",
    "\n",
    "#data_4 = np.array(data_4).reshape((len(data_4), 1))\n",
    "#data_x = np.hstack([data_x, data_4])"
   ]
  },
  {
   "cell_type": "code",
   "execution_count": 176,
   "metadata": {
    "collapsed": false
   },
   "outputs": [
    {
     "data": {
      "text/plain": [
       "<matplotlib.collections.PathCollection at 0x117d5f510>"
      ]
     },
     "execution_count": 176,
     "metadata": {},
     "output_type": "execute_result"
    },
    {
     "data": {
      "image/png": "[encoded data removed]",
      "text/plain": [
       "<matplotlib.figure.Figure at 0x117a48310>"
      ]
     },
     "metadata": {},
     "output_type": "display_data"
    }
   ],
   "source": [
    "# График\n",
    "\n",
    "pylab.scatter(map(lambda x:1000*x[0], data_x), data_y, color = 'r')"
   ]
  },
  {
   "cell_type": "markdown",
   "metadata": {},
   "source": [
    "#### LinearRegression"
   ]
  },
  {
   "cell_type": "code",
   "execution_count": 177,
   "metadata": {
    "collapsed": false
   },
   "outputs": [],
   "source": [
    "# Обучение\n",
    "\n",
    "linear_regressor = linear_model.LinearRegression()\n",
    "linear_regressor.fit(data_x, data_y)\n",
    "regressor_predictions = linear_regressor.predict(data_x)"
   ]
  },
  {
   "cell_type": "code",
   "execution_count": 178,
   "metadata": {
    "collapsed": false
   },
   "outputs": [
    {
     "name": "stdout",
     "output_type": "stream",
     "text": [
      "y = 17.86 + (-5060.63)*x\n"
     ]
    }
   ],
   "source": [
    "# Результаты линейной регрессии\n",
    "print \"y = {:.2f} + ({:.2f})*x\".format(linear_regressor.intercept_, linear_regressor.coef_[0])"
   ]
  },
  {
   "cell_type": "code",
   "execution_count": 179,
   "metadata": {
    "collapsed": false
   },
   "outputs": [
    {
     "name": "stdout",
     "output_type": "stream",
     "text": [
      "[ 1.70054922  1.33104821  1.43833292  1.1674669   0.887516    1.49145473\n",
      "  1.05660207  1.59667398  1.22235256  1.27687849  1.64877799  1.38486521\n",
      "  0.94425484  1.54423398  1.0006156   1.11221795  0.83039527]\n",
      "[ 1.69377906  1.327075    1.44926916  1.16315081  0.87129337  1.5018527\n",
      "  1.0612565   1.59330853  1.20896035  1.26412673  1.65822808  1.38629436\n",
      "  0.9439059   1.54756251  0.99694863  1.10856262  0.85866162]\n"
     ]
    }
   ],
   "source": [
    "# Итоговые значения линейной регрессии\n",
    "\n",
    "print regressor_predictions\n",
    "print data_y"
   ]
  },
  {
   "cell_type": "code",
   "execution_count": 180,
   "metadata": {
    "collapsed": false
   },
   "outputs": [
    {
     "data": {
      "text/plain": [
       "[<matplotlib.lines.Line2D at 0x117b743d0>]"
      ]
     },
     "execution_count": 180,
     "metadata": {},
     "output_type": "execute_result"
    },
    {
     "data": {
      "image/png": "[encoded data removed]",
      "text/plain": [
       "<matplotlib.figure.Figure at 0x117b74410>"
      ]
     },
     "metadata": {},
     "output_type": "display_data"
    }
   ],
   "source": [
    "# График результата\n",
    "\n",
    "regressor_predictions = np.array(regressor_predictions).reshape((len(regressor_predictions), 1))\n",
    "pylab.scatter(map(lambda x:2000*x[0], data_x), data_y, color = 'r')\n",
    "pylab.plot(map(lambda x:2000*x[0], data_x), regressor_predictions, color = 'b')"
   ]
  },
  {
   "cell_type": "markdown",
   "metadata": {},
   "source": [
    "#### Lasso"
   ]
  },
  {
   "cell_type": "code",
   "execution_count": 182,
   "metadata": {
    "collapsed": false
   },
   "outputs": [],
   "source": [
    "# Обучение\n",
    "\n",
    "lasso_regressor = linear_model.Lasso(random_state = 3)\n",
    "lasso_regressor.fit(data_x, data_y)\n",
    "lasso_predictions = lasso_regressor.predict(data_x)"
   ]
  },
  {
   "cell_type": "code",
   "execution_count": 183,
   "metadata": {
    "collapsed": false
   },
   "outputs": [
    {
     "name": "stdout",
     "output_type": "stream",
     "text": [
      "y = 1.27 + (-0.00)*x\n"
     ]
    }
   ],
   "source": [
    "# Результаты лассо регрессии \n",
    "\n",
    "print \"y = {:.2f} + ({:.2f})*x\".format(lasso_regressor.intercept_, lasso_regressor.coef_[0])"
   ]
  },
  {
   "cell_type": "code",
   "execution_count": 184,
   "metadata": {
    "collapsed": false
   },
   "outputs": [
    {
     "name": "stdout",
     "output_type": "stream",
     "text": [
      "[ 1.27260211  1.27260211  1.27260211  1.27260211  1.27260211  1.27260211\n",
      "  1.27260211  1.27260211  1.27260211  1.27260211  1.27260211  1.27260211\n",
      "  1.27260211  1.27260211  1.27260211  1.27260211  1.27260211]\n",
      "[ 1.69377906  1.327075    1.44926916  1.16315081  0.87129337  1.5018527\n",
      "  1.0612565   1.59330853  1.20896035  1.26412673  1.65822808  1.38629436\n",
      "  0.9439059   1.54756251  0.99694863  1.10856262  0.85866162]\n"
     ]
    }
   ],
   "source": [
    "# Итоговые значения лассо регрессии\n",
    "\n",
    "print lasso_predictions\n",
    "print data_y"
   ]
  },
  {
   "cell_type": "code",
   "execution_count": 185,
   "metadata": {
    "collapsed": false
   },
   "outputs": [
    {
     "data": {
      "text/plain": [
       "[<matplotlib.lines.Line2D at 0x117db03d0>]"
      ]
     },
     "execution_count": 185,
     "metadata": {},
     "output_type": "execute_result"
    },
    {
     "data": {
      "image/png": "[encoded data removed]",
      "text/plain": [
       "<matplotlib.figure.Figure at 0x117db0ed0>"
      ]
     },
     "metadata": {},
     "output_type": "display_data"
    }
   ],
   "source": [
    "# График результата\n",
    "\n",
    "lasso_predictions = np.array(lasso_predictions).reshape((len(lasso_predictions), 1))\n",
    "pylab.scatter(map(lambda x:2000*x[0], data_x), data_y, color = 'r')\n",
    "pylab.plot(map(lambda x:2000*x[0], data_x), lasso_predictions, color = 'b')"
   ]
  },
  {
   "cell_type": "markdown",
   "metadata": {},
   "source": [
    "#### Error and statistic"
   ]
  },
  {
   "cell_type": "code",
   "execution_count": 198,
   "metadata": {
    "collapsed": false
   },
   "outputs": [
    {
     "name": "stdout",
     "output_type": "stream",
     "text": [
      "Абсолютная ошибка: 0.00805444204947\n",
      "Среднеквадратичная ошибка: 0.0105005152871\n",
      "Доля объяснённой ошибки: 0.998448717732\n",
      "Медианная ошибка: 0.00465443316931\n",
      "R2 scorer: 0.998448717732\n"
     ]
    }
   ],
   "source": [
    "# Ошибки линейной регрессии\n",
    "\n",
    "print \"Абсолютная ошибка:\", metrics.mean_absolute_error(data_y, regressor_predictions)\n",
    "print \"Среднеквадратичная ошибка:\", sqrt(metrics.mean_squared_error(data_y, regressor_predictions))\n",
    "print \"Доля объяснённой ошибки:\", metrics.explained_variance_score(data_y, regressor_predictions)\n",
    "print \"Медианная ошибка:\", metrics.median_absolute_error(data_y, regressor_predictions)\n",
    "print \"R2 scorer:\", metrics.r2_score(data_y, regressor_predictions)"
   ]
  },
  {
   "cell_type": "code",
   "execution_count": 199,
   "metadata": {
    "collapsed": false
   },
   "outputs": [
    {
     "name": "stdout",
     "output_type": "stream",
     "text": [
      "Абсолютная ошибка: 0.232535587724\n",
      "Среднеквадратичная ошибка: 0.266603101438\n",
      "Доля объяснённой ошибки: 0.0\n",
      "Медианная ошибка: 0.229250588547\n",
      "R2 scorer: 0.0\n"
     ]
    }
   ],
   "source": [
    "# Ошибки лассо регрессии\n",
    "\n",
    "print \"Абсолютная ошибка:\", metrics.mean_absolute_error(data_y, lasso_predictions)\n",
    "print \"Среднеквадратичная ошибка:\", sqrt(metrics.mean_squared_error(data_y, lasso_predictions))\n",
    "print \"Доля объяснённой ошибки:\", metrics.explained_variance_score(data_y, lasso_predictions)\n",
    "print \"Медианная ошибка:\", metrics.median_absolute_error(data_y, lasso_predictions)\n",
    "print \"R2 scorer:\", metrics.r2_score(data_y, lasso_predictions)"
   ]
  },
  {
   "cell_type": "code",
   "execution_count": null,
   "metadata": {
    "collapsed": true
   },
   "outputs": [],
   "source": [
    "# Недоделано:\n",
    "# Регрессия с собственными параметрами ошибки\n",
    "# Получение погрешностей весов в решении задачи регрессии"
   ]
  }
 ],
 "metadata": {
  "kernelspec": {
   "display_name": "Python 2",
   "language": "python",
   "name": "python2"
  },
  "language_info": {
   "codemirror_mode": {
    "name": "ipython",
    "version": 2
   },
   "file_extension": ".py",
   "mimetype": "text/x-python",
   "name": "python",
   "nbconvert_exporter": "python",
   "pygments_lexer": "ipython2",
   "version": "2.7.11"
  }
 },
 "nbformat": 4,
 "nbformat_minor": 0
}
