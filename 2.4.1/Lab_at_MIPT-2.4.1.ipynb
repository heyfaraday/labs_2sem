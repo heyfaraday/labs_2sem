{
 "cells": [
  {
   "cell_type": "code",
   "execution_count": null,
   "metadata": {
    "collapsed": false
   },
   "outputs": [],
   "source": [
    "# Здесь будет существовать некоторая версия программы для обработки экпериментальных данных\n",
    "# На начальный момент самая работающая версия программы: lab 2.4.1.ipynb\n",
    "\n",
    "%matplotlib inline\n",
    "%pylab inline"
   ]
  },
  {
   "cell_type": "code",
   "execution_count": null,
   "metadata": {
    "collapsed": false
   },
   "outputs": [],
   "source": [
    "from sklearn import cross_validation, linear_model, metrics\n",
    "import numpy as np\n",
    "import pandas as pd\n",
    "from scipy import optimize as opt"
   ]
  },
  {
   "cell_type": "code",
   "execution_count": null,
   "metadata": {
    "collapsed": false
   },
   "outputs": [],
   "source": [
    "# For ODR regression\n",
    "\n",
    "import matplotlib.pyplot as plt\n",
    "import scipy.odr as odr"
   ]
  },
  {
   "cell_type": "code",
   "execution_count": null,
   "metadata": {
    "collapsed": false
   },
   "outputs": [],
   "source": [
    "# Считывание данных\n",
    "\n",
    "source_data = pd.read_csv('Tup.csv', sep=',', header=0) #source_data.csv\n",
    "source_data = source_data.sample(frac=1)"
   ]
  },
  {
   "cell_type": "code",
   "execution_count": null,
   "metadata": {
    "collapsed": false
   },
   "outputs": [],
   "source": [
    "# Кусок для получения измерений\n",
    "\n",
    "source_data_1 = source_data.H1\n",
    "source_data_2 = source_data.H2\n",
    "source_data_3 = source_data.Temp"
   ]
  },
  {
   "cell_type": "code",
   "execution_count": null,
   "metadata": {
    "collapsed": false
   },
   "outputs": [],
   "source": [
    "# Кусок для подгона полученных измерений под тип данных\n",
    "\n",
    "data_1 = np.array(source_data_1, dtype=float)     \n",
    "data_2 = np.array(source_data_2, dtype=float)\n",
    "data_3 = np.array(source_data_3, dtype=float)"
   ]
  },
  {
   "cell_type": "code",
   "execution_count": null,
   "metadata": {
    "collapsed": false
   },
   "outputs": [],
   "source": [
    "# Кусок для подгона полученных измерений под апроксимацию\n",
    "\n",
    "data_y = data_2 - data_1\n",
    "data_x = (data_3 + 273.15)\n",
    "\n",
    "data_y = np.log(data_y)\n",
    "data_x = np.reciprocal(data_x)\n"
   ]
  },
  {
   "cell_type": "code",
   "execution_count": null,
   "metadata": {
    "collapsed": false
   },
   "outputs": [],
   "source": [
    "print data_x \n",
    "print data_y\n"
   ]
  },
  {
   "cell_type": "code",
   "execution_count": null,
   "metadata": {
    "collapsed": false
   },
   "outputs": [],
   "source": [
    "# Кусок для получения ошибки измерений\n",
    "\n",
    "#  source_data_error_1 = \n",
    "# source_data_error_2 = \n",
    "# source_data_error_3 = "
   ]
  },
  {
   "cell_type": "code",
   "execution_count": null,
   "metadata": {
    "collapsed": false
   },
   "outputs": [],
   "source": [
    "# Кусок для подгона полученных ошибок измерений под тип данных (подумать о глубокой реализации)\n",
    "\n",
    "data_error_x = 0.0001*np.ones((1,17))\n",
    "data_error_y = 0.01*np.ones((1,17))\n",
    "print data_error_x[0][:]\n",
    "print data_error_y[0][:]"
   ]
  },
  {
   "cell_type": "code",
   "execution_count": null,
   "metadata": {
    "collapsed": false
   },
   "outputs": [],
   "source": [
    "# Подгон формата данных под работу\n",
    "\n",
    "data_x = np.array(data_x).reshape((len(data_x), 1))\n",
    "\n",
    "# Для многомерной регрессии\n",
    "\n",
    "#data_4 = np.array(data_4).reshape((len(data_4), 1))\n",
    "#data_x = np.hstack([data_x, data_4])"
   ]
  },
  {
   "cell_type": "code",
   "execution_count": null,
   "metadata": {
    "collapsed": false
   },
   "outputs": [],
   "source": [
    "# График\n",
    "\n",
    "pylab.scatter(map(lambda x:1000*x[0], data_x), data_y, color = 'r')"
   ]
  },
  {
   "cell_type": "markdown",
   "metadata": {},
   "source": [
    "#### LinearRegression"
   ]
  },
  {
   "cell_type": "code",
   "execution_count": null,
   "metadata": {
    "collapsed": false
   },
   "outputs": [],
   "source": [
    "# Обучение\n",
    "\n",
    "linear_regressor = linear_model.LinearRegression()\n",
    "linear_regressor.fit(data_x, data_y)\n",
    "regressor_predictions = linear_regressor.predict(data_x)"
   ]
  },
  {
   "cell_type": "code",
   "execution_count": null,
   "metadata": {
    "collapsed": false
   },
   "outputs": [],
   "source": [
    "# Результаты линейной регрессии\n",
    "print \"y = {:.2f} + ({:.2f})*x\".format(linear_regressor.intercept_, linear_regressor.coef_[0])"
   ]
  },
  {
   "cell_type": "code",
   "execution_count": null,
   "metadata": {
    "collapsed": false
   },
   "outputs": [],
   "source": [
    "# Итоговые значения линейной регрессии\n",
    "\n",
    "print regressor_predictions\n",
    "print data_y"
   ]
  },
  {
   "cell_type": "code",
   "execution_count": null,
   "metadata": {
    "collapsed": false
   },
   "outputs": [],
   "source": [
    "# График результата\n",
    "\n",
    "regressor_predictions = np.array(regressor_predictions).reshape((len(regressor_predictions), 1))\n",
    "pylab.scatter(map(lambda x:2000*x[0], data_x), data_y, color = 'r')\n",
    "pylab.plot(map(lambda x:2000*x[0], data_x), regressor_predictions, color = 'b')"
   ]
  },
  {
   "cell_type": "markdown",
   "metadata": {},
   "source": [
    "#### Lasso (L1)"
   ]
  },
  {
   "cell_type": "code",
   "execution_count": null,
   "metadata": {
    "collapsed": false
   },
   "outputs": [],
   "source": [
    "# Обучение (alpha - параметр L1 регуляризации)\n",
    "\n",
    "lasso_regressor = linear_model.Lasso(random_state = 3, alpha=0.0000001)\n",
    "lasso_regressor.fit(data_x, data_y)\n",
    "lasso_predictions = lasso_regressor.predict(data_x)"
   ]
  },
  {
   "cell_type": "code",
   "execution_count": null,
   "metadata": {
    "collapsed": false
   },
   "outputs": [],
   "source": [
    "# Результаты лассо регрессии \n",
    "\n",
    "print \"y = {:.2f} + ({:.2f})*x\".format(lasso_regressor.intercept_, lasso_regressor.coef_[0])"
   ]
  },
  {
   "cell_type": "code",
   "execution_count": null,
   "metadata": {
    "collapsed": false
   },
   "outputs": [],
   "source": [
    "# Итоговые значения лассо регрессии\n",
    "\n",
    "print lasso_predictions\n",
    "print data_y"
   ]
  },
  {
   "cell_type": "code",
   "execution_count": null,
   "metadata": {
    "collapsed": false
   },
   "outputs": [],
   "source": [
    "# График результата\n",
    "\n",
    "lasso_predictions = np.array(lasso_predictions).reshape((len(lasso_predictions), 1))\n",
    "pylab.scatter(map(lambda x:2000*x[0], data_x), data_y, color = 'r')\n",
    "pylab.plot(map(lambda x:2000*x[0], data_x), lasso_predictions, color = 'b')"
   ]
  },
  {
   "cell_type": "markdown",
   "metadata": {},
   "source": [
    "#### ElasticNet (L2)"
   ]
  },
  {
   "cell_type": "code",
   "execution_count": null,
   "metadata": {
    "collapsed": false
   },
   "outputs": [],
   "source": [
    "# Обучение (alpha - параметр L1 регуляризации)\n",
    "\n",
    "elastic_regressor = linear_model.ElasticNet(random_state = 3, alpha=0.0000000001, l1_ratio = 0.0)\n",
    "elastic_regressor.fit(data_x, data_y)\n",
    "elastic_predictions = elastic_regressor.predict(data_x)"
   ]
  },
  {
   "cell_type": "code",
   "execution_count": null,
   "metadata": {
    "collapsed": false
   },
   "outputs": [],
   "source": [
    "# Результаты ElasticNet регрессии \n",
    "\n",
    "print \"y = {:.2f} + ({:.2f})*x\".format(elastic_regressor.intercept_, elastic_regressor.coef_[0])"
   ]
  },
  {
   "cell_type": "code",
   "execution_count": null,
   "metadata": {
    "collapsed": false
   },
   "outputs": [],
   "source": [
    "# Итоговые значения ElasticNet регрессии\n",
    "\n",
    "print elastic_predictions\n",
    "print data_y"
   ]
  },
  {
   "cell_type": "code",
   "execution_count": null,
   "metadata": {
    "collapsed": false
   },
   "outputs": [],
   "source": [
    "# График результата\n",
    "\n",
    "elastic_predictions = np.array(elastic_predictions).reshape((len(elastic_predictions), 1))\n",
    "pylab.scatter(map(lambda x:2000*x[0], data_x), data_y, color = 'r')\n",
    "pylab.plot(map(lambda x:2000*x[0], data_x), elastic_predictions, color = 'b')"
   ]
  },
  {
   "cell_type": "markdown",
   "metadata": {},
   "source": [
    "#### Curve fit (without sigma)"
   ]
  },
  {
   "cell_type": "code",
   "execution_count": null,
   "metadata": {
    "collapsed": false
   },
   "outputs": [],
   "source": [
    "data_x = np.reshape(data_x, (1, len(data_x)))"
   ]
  },
  {
   "cell_type": "code",
   "execution_count": null,
   "metadata": {
    "collapsed": false
   },
   "outputs": [],
   "source": [
    "# Определение функции ошибки\n",
    "\n",
    "def f(x, a, b):\n",
    "    return a + b*x"
   ]
  },
  {
   "cell_type": "code",
   "execution_count": null,
   "metadata": {
    "collapsed": false
   },
   "outputs": [],
   "source": [
    "# Оптимизация\n",
    "\n",
    "parameters_opt, parameters_cov = opt.curve_fit(f, data_x[0], data_y)"
   ]
  },
  {
   "cell_type": "code",
   "execution_count": null,
   "metadata": {
    "collapsed": false
   },
   "outputs": [],
   "source": [
    "# Результаты оптимизации\n",
    "\n",
    "print \"y  =  {:.3f}  +      ({:.3f})*x\".format(parameters_opt[0], parameters_opt[1])\n",
    "print \"  (+-){:.3f}   +  (+-)({:.3f})*x\".format(np.sqrt(np.diag(parameters_cov))[0], \n",
    "                                                np.sqrt(np.diag(parameters_cov))[1])"
   ]
  },
  {
   "cell_type": "markdown",
   "metadata": {},
   "source": [
    "#### Curve fit (with sigma)"
   ]
  },
  {
   "cell_type": "code",
   "execution_count": null,
   "metadata": {
    "collapsed": true
   },
   "outputs": [],
   "source": [
    "# Определение функции ошибки\n",
    "\n",
    "def f(x, a, b):\n",
    "    return a + b*x"
   ]
  },
  {
   "cell_type": "code",
   "execution_count": null,
   "metadata": {
    "collapsed": false
   },
   "outputs": [],
   "source": [
    "# Оптимизация \n",
    "\n",
    "parameters_sigma_opt, parameters_sigma_cov = opt.curve_fit(f, data_x[0], data_y, sigma = data_error_y[0], absolute_sigma=True)"
   ]
  },
  {
   "cell_type": "code",
   "execution_count": null,
   "metadata": {
    "collapsed": false
   },
   "outputs": [],
   "source": [
    "# Результаты оптимизации\n",
    "\n",
    "print \"y  =  {:.3f}  +      ({:.3f})*x\".format(parameters_sigma_opt[0], parameters_sigma_opt[1])\n",
    "print \"  (+-){:.3f}   +  (+-)({:.3f})*x\".format(np.sqrt(np.diag(parameters_sigma_cov))[0], \n",
    "                                                np.sqrt(np.diag(parameters_sigma_cov))[1])"
   ]
  },
  {
   "cell_type": "markdown",
   "metadata": {},
   "source": [
    "#### Orthogonal distance regression"
   ]
  },
  {
   "cell_type": "code",
   "execution_count": null,
   "metadata": {
    "collapsed": false
   },
   "outputs": [],
   "source": [
    "def linear_func(b, x):\n",
    "     return b[1]*x + b[0]\n",
    "\n",
    "linear_model = odr.Model(linear_func)\n",
    "\n",
    "data = odr.RealData(data_x[0][:], data_y, sx=data_error_x, sy=data_error_y)\n",
    "\n",
    "my_odr = odr.ODR(data, linear_model, beta0=[0., 1.])\n",
    "\n",
    "out = my_odr.run()\n",
    "\n",
    "out.pprint()\n",
    "'''Beta: [ 1.01781493  0.48498006]\n",
    "Beta Std Error: [ 0.00390799  0.03660941]\n",
    "Beta Covariance: [[ 0.00241322 -0.01420883]\n",
    " [-0.01420883  0.21177597]]\n",
    "Residual Variance: 0.00632861634898189\n",
    "Inverse Condition #: 0.4195196193536024\n",
    "Reason(s) for Halting:\n",
    "  Sum of squares convergence'''\n",
    "\n",
    "x_fit = np.linspace(0.99*min(data_x[0]), 1.01*max(data_x[0]), 10000)\n",
    "\n",
    "plt.errorbar(data_x[0][:], data_y, xerr=data_error_x[0][:], yerr=data_error_y[0][:], linestyle='None', marker='x')\n",
    "plt.plot(x_fit, linear_func(out.beta, x_fit))\n",
    "plt.show()\n",
    "\n",
    "out.beta = out.beta + out.sd_beta\n",
    "\n",
    "plt.errorbar(data_x[0][:], data_y, xerr=data_error_x[0][:], yerr=data_error_y[0][:], linestyle='None', marker='x')\n",
    "plt.plot(x_fit, linear_func(out.beta, x_fit))\n",
    "plt.show()\n",
    "\n",
    "out.beta = out.beta - 2*out.sd_beta\n",
    "\n",
    "plt.errorbar(data_x[0][:], data_y, xerr=data_error_x[0][:], yerr=data_error_y[0][:], linestyle='None', marker='x')\n",
    "plt.plot(x_fit, linear_func(out.beta, x_fit))\n",
    "plt.show()"
   ]
  },
  {
   "cell_type": "markdown",
   "metadata": {},
   "source": [
    "#### Error and statistic"
   ]
  },
  {
   "cell_type": "code",
   "execution_count": null,
   "metadata": {
    "collapsed": false
   },
   "outputs": [],
   "source": [
    "# Ошибки линейной регрессии\n",
    "\n",
    "print \"Абсолютная ошибка:\", metrics.mean_absolute_error(data_y, regressor_predictions)\n",
    "print \"Среднеквадратичная ошибка:\", sqrt(metrics.mean_squared_error(data_y, regressor_predictions))\n",
    "print \"Доля объяснённой ошибки:\", metrics.explained_variance_score(data_y, regressor_predictions)\n",
    "print \"Медианная ошибка:\", metrics.median_absolute_error(data_y, regressor_predictions)\n",
    "print \"R2 scorer:\", metrics.r2_score(data_y, regressor_predictions)"
   ]
  },
  {
   "cell_type": "code",
   "execution_count": null,
   "metadata": {
    "collapsed": false
   },
   "outputs": [],
   "source": [
    "# Ошибки лассо регрессии\n",
    "\n",
    "print \"Абсолютная ошибка:\", metrics.mean_absolute_error(data_y, lasso_predictions)\n",
    "print \"Среднеквадратичная ошибка:\", sqrt(metrics.mean_squared_error(data_y, lasso_predictions))\n",
    "print \"Доля объяснённой ошибки:\", metrics.explained_variance_score(data_y, lasso_predictions)\n",
    "print \"Медианная ошибка:\", metrics.median_absolute_error(data_y, lasso_predictions)\n",
    "print \"R2 scorer:\", metrics.r2_score(data_y, lasso_predictions)"
   ]
  },
  {
   "cell_type": "code",
   "execution_count": null,
   "metadata": {
    "collapsed": false
   },
   "outputs": [],
   "source": [
    "# Ошибки ElasticNet регрессии\n",
    "\n",
    "print \"Абсолютная ошибка:\", metrics.mean_absolute_error(data_y, elastic_predictions)\n",
    "print \"Среднеквадратичная ошибка:\", sqrt(metrics.mean_squared_error(data_y, elastic_predictions))\n",
    "print \"Доля объяснённой ошибки:\", metrics.explained_variance_score(data_y, elastic_predictions)\n",
    "print \"Медианная ошибка:\", metrics.median_absolute_error(data_y, elastic_predictions)\n",
    "print \"R2 scorer:\", metrics.r2_score(data_y, elastic_predictions)"
   ]
  },
  {
   "cell_type": "code",
   "execution_count": null,
   "metadata": {
    "collapsed": true
   },
   "outputs": [],
   "source": [
    "# Статистики для curve_fit и ODR приведены выше"
   ]
  },
  {
   "cell_type": "code",
   "execution_count": null,
   "metadata": {
    "collapsed": false
   },
   "outputs": [],
   "source": [
    "# sklearn.feature_selection.chi2 или наподобии критерия Пирсона для регресси"
   ]
  },
  {
   "cell_type": "markdown",
   "metadata": {},
   "source": [
    "#### Хотелось бы, но работает и так неплохо"
   ]
  },
  {
   "cell_type": "code",
   "execution_count": null,
   "metadata": {
    "collapsed": true
   },
   "outputs": [],
   "source": [
    "# Python 3\n",
    "# Отмаштабировать значения в регрессии"
   ]
  }
 ],
 "metadata": {
  "anaconda-cloud": {},
  "kernelspec": {
   "display_name": "Python [New_Python]",
   "language": "python",
   "name": "Python [New_Python]"
  },
  "language_info": {
   "codemirror_mode": {
    "name": "ipython",
    "version": 3
   },
   "file_extension": ".py",
   "mimetype": "text/x-python",
   "name": "python",
   "nbconvert_exporter": "python",
   "pygments_lexer": "ipython3",
   "version": "3.5.1"
  }
 },
 "nbformat": 4,
 "nbformat_minor": 0
}
