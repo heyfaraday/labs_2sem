{
 "cells": [
  {
   "cell_type": "code",
   "execution_count": null,
   "metadata": {
    "collapsed": false
   },
   "outputs": [],
   "source": [
    "# Здесь будет существовать некоторая версия программы для обработки экпериментальных данных\n",
    "# На начальный момент самая работающая версия программы: lab 2.4.1.ipynb\n",
    "\n",
    "%matplotlib inline\n",
    "%pylab inline"
   ]
  },
  {
   "cell_type": "code",
   "execution_count": null,
   "metadata": {
    "collapsed": true
   },
   "outputs": [],
   "source": [
    "from sklearn import cross_validation, linear_model, metrics\n",
    "import numpy as np\n",
    "import pandas as pd"
   ]
  },
  {
   "cell_type": "code",
   "execution_count": null,
   "metadata": {
    "collapsed": false
   },
   "outputs": [],
   "source": [
    "# Считывание данных\n",
    "\n",
    "source_data = pd.read_csv('input_data.csv', sep=',', header=0) #source_data.csv\n",
    "source_data = source_data.sample(frac=1)"
   ]
  },
  {
   "cell_type": "code",
   "execution_count": null,
   "metadata": {
    "collapsed": false
   },
   "outputs": [],
   "source": [
    "# Кусок для получения измерений\n",
    "\n",
    "source_data_1 = source_data.1\n",
    "source_data_2 = source_data.2\n",
    "source_data_3 = source_data.3"
   ]
  },
  {
   "cell_type": "code",
   "execution_count": null,
   "metadata": {
    "collapsed": false
   },
   "outputs": [],
   "source": [
    "# Кусок для подгона полученных измерений под тип данных\n",
    "\n",
    "data_1 = np.array(source_data_1, dtype=float)     \n",
    "data_2 = np.array(source_data_2, dtype=float)\n",
    "data_3 = np.array(source_data_3, dtype=float)"
   ]
  },
  {
   "cell_type": "code",
   "execution_count": null,
   "metadata": {
    "collapsed": false
   },
   "outputs": [],
   "source": [
    "# Кусок для подгона полученных измерений под апроксимацию\n",
    "\n",
    "data_y = \n",
    "data_x = \n",
    "\n",
    "print data_x\n",
    "print data_y"
   ]
  },
  {
   "cell_type": "code",
   "execution_count": null,
   "metadata": {
    "collapsed": false
   },
   "outputs": [],
   "source": [
    "# Кусок для получения ошибки измерений\n",
    "\n",
    "#  source_data_error_1 = \n",
    "# source_data_error_2 = \n",
    "# source_data_error_3 = "
   ]
  },
  {
   "cell_type": "code",
   "execution_count": null,
   "metadata": {
    "collapsed": false
   },
   "outputs": [],
   "source": [
    "# Кусок для подгона полученных ошибок измерений под тип данных (подумать о глубокой реализации)\n",
    "\n",
    "# data_error_x = \n",
    "# data_error_y = "
   ]
  },
  {
   "cell_type": "code",
   "execution_count": null,
   "metadata": {
    "collapsed": false
   },
   "outputs": [],
   "source": [
    "# Подгон формата данных под работу\n",
    "\n",
    "data_x = np.array(data_x).reshape((len(data_x), 1))\n",
    "\n",
    "# Для многомерной регрессии\n",
    "\n",
    "#data_4 = np.array(data_4).reshape((len(data_4), 1))\n",
    "#data_x = np.hstack([data_x, data_4])"
   ]
  },
  {
   "cell_type": "code",
   "execution_count": null,
   "metadata": {
    "collapsed": false
   },
   "outputs": [],
   "source": [
    "# График\n",
    "\n",
    "pylab.scatter(map(lambda x:1000*x[0], data_x), data_y, color = 'r')"
   ]
  },
  {
   "cell_type": "markdown",
   "metadata": {},
   "source": [
    "#### LinearRegression"
   ]
  },
  {
   "cell_type": "code",
   "execution_count": null,
   "metadata": {
    "collapsed": false
   },
   "outputs": [],
   "source": [
    "# Обучение\n",
    "\n",
    "linear_regressor = linear_model.LinearRegression()\n",
    "linear_regressor.fit(data_x, data_y)\n",
    "regressor_predictions = linear_regressor.predict(data_x)"
   ]
  },
  {
   "cell_type": "code",
   "execution_count": null,
   "metadata": {
    "collapsed": false
   },
   "outputs": [],
   "source": [
    "# Результаты линейной регрессии\n",
    "print \"y = {:.2f} + ({:.2f})*x\".format(linear_regressor.intercept_, linear_regressor.coef_[0])"
   ]
  },
  {
   "cell_type": "code",
   "execution_count": null,
   "metadata": {
    "collapsed": false
   },
   "outputs": [],
   "source": [
    "# Итоговые значения линейной регрессии\n",
    "\n",
    "print regressor_predictions\n",
    "print data_y"
   ]
  },
  {
   "cell_type": "code",
   "execution_count": null,
   "metadata": {
    "collapsed": false
   },
   "outputs": [],
   "source": [
    "# График результата\n",
    "\n",
    "regressor_predictions = np.array(regressor_predictions).reshape((len(regressor_predictions), 1))\n",
    "pylab.scatter(map(lambda x:2000*x[0], data_x), data_y, color = 'r')\n",
    "pylab.plot(map(lambda x:2000*x[0], data_x), regressor_predictions, color = 'b')"
   ]
  },
  {
   "cell_type": "markdown",
   "metadata": {},
   "source": [
    "#### Lasso"
   ]
  },
  {
   "cell_type": "code",
   "execution_count": null,
   "metadata": {
    "collapsed": false
   },
   "outputs": [],
   "source": [
    "# Обучение\n",
    "\n",
    "lasso_regressor = linear_model.Lasso(random_state = 3)\n",
    "lasso_regressor.fit(data_x, data_y)\n",
    "lasso_predictions = lasso_regressor.predict(data_x)"
   ]
  },
  {
   "cell_type": "code",
   "execution_count": null,
   "metadata": {
    "collapsed": false
   },
   "outputs": [],
   "source": [
    "# Результаты лассо регрессии \n",
    "\n",
    "print \"y = {:.2f} + ({:.2f})*x\".format(lasso_regressor.intercept_, lasso_regressor.coef_[0])"
   ]
  },
  {
   "cell_type": "code",
   "execution_count": null,
   "metadata": {
    "collapsed": false
   },
   "outputs": [],
   "source": [
    "# Итоговые значения лассо регрессии\n",
    "\n",
    "print lasso_predictions\n",
    "print data_y"
   ]
  },
  {
   "cell_type": "code",
   "execution_count": null,
   "metadata": {
    "collapsed": false
   },
   "outputs": [],
   "source": [
    "# График результата\n",
    "\n",
    "lasso_predictions = np.array(lasso_predictions).reshape((len(lasso_predictions), 1))\n",
    "pylab.scatter(map(lambda x:2000*x[0], data_x), data_y, color = 'r')\n",
    "pylab.plot(map(lambda x:2000*x[0], data_x), lasso_predictions, color = 'b')"
   ]
  },
  {
   "cell_type": "markdown",
   "metadata": {},
   "source": [
    "#### Error and statistic"
   ]
  },
  {
   "cell_type": "code",
   "execution_count": null,
   "metadata": {
    "collapsed": false
   },
   "outputs": [],
   "source": [
    "# Ошибки линейной регрессии\n",
    "\n",
    "print \"Абсолютная ошибка:\", metrics.mean_absolute_error(data_y, regressor_predictions)\n",
    "print \"Среднеквадратичная ошибка:\", sqrt(metrics.mean_squared_error(data_y, regressor_predictions))\n",
    "print \"Доля объяснённой ошибки:\", metrics.explained_variance_score(data_y, regressor_predictions)\n",
    "print \"Медианная ошибка:\", metrics.median_absolute_error(data_y, regressor_predictions)\n",
    "print \"R2 scorer:\", metrics.r2_score(data_y, regressor_predictions)"
   ]
  },
  {
   "cell_type": "code",
   "execution_count": null,
   "metadata": {
    "collapsed": false
   },
   "outputs": [],
   "source": [
    "# Ошибки лассо регрессии\n",
    "\n",
    "print \"Абсолютная ошибка:\", metrics.mean_absolute_error(data_y, lasso_predictions)\n",
    "print \"Среднеквадратичная ошибка:\", sqrt(metrics.mean_squared_error(data_y, lasso_predictions))\n",
    "print \"Доля объяснённой ошибки:\", metrics.explained_variance_score(data_y, lasso_predictions)\n",
    "print \"Медианная ошибка:\", metrics.median_absolute_error(data_y, lasso_predictions)\n",
    "print \"R2 scorer:\", metrics.r2_score(data_y, lasso_predictions)"
   ]
  },
  {
   "cell_type": "code",
   "execution_count": null,
   "metadata": {
    "collapsed": true
   },
   "outputs": [],
   "source": [
    "# Недоделано:\n",
    "# Регрессия с собственными параметрами ошибки\n",
    "# Получение погрешностей весов в решении задачи регрессии"
   ]
  }
 ],
 "metadata": {
  "kernelspec": {
   "display_name": "Python 2",
   "language": "python",
   "name": "python2"
  },
  "language_info": {
   "codemirror_mode": {
    "name": "ipython",
    "version": 2
   },
   "file_extension": ".py",
   "mimetype": "text/x-python",
   "name": "python",
   "nbconvert_exporter": "python",
   "pygments_lexer": "ipython2",
   "version": "2.7.11"
  }
 },
 "nbformat": 4,
 "nbformat_minor": 0
}
