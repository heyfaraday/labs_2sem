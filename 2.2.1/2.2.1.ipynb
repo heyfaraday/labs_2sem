{
 "cells": [
  {
   "cell_type": "code",
   "execution_count": 83,
   "metadata": {
    "collapsed": false
   },
   "outputs": [],
   "source": [
    "%matplotlib inline\n",
    "import math\n",
    "import numpy as np\n",
    "import pandas as pd\n",
    "import scipy.optimize as opt\n",
    "from matplotlib import pylab as plt\n",
    "\n",
    "wine = pd.read_csv('full.csv', sep=',', header=0)\n",
    "wine = wine.sample(frac=1)\n",
    "\n",
    "source_data_1P = wine.P\n",
    "source_data_D = wine.D\n",
    "\n",
    "data_1P = np.array(source_data_1P, dtype=float)    #source numpy array \n",
    "data_D = np.array(source_data_D, dtype=float)\n",
    "\n",
    "source_data_1Perr=[0.05]    #error list\n",
    "source_data_Derr=[5]\n",
    "\n",
    "data_1Perr = np.array(source_data_Terr)    #error numpy array\n",
    "data_Derr = np.array(source_data_Nerr)"
   ]
  },
  {
   "cell_type": "code",
   "execution_count": 84,
   "metadata": {
    "collapsed": false
   },
   "outputs": [
    {
     "name": "stdout",
     "output_type": "stream",
     "text": [
      "      D    P\n",
      "0  3.60  188\n",
      "4  0.58   29\n",
      "3  0.74   39\n",
      "1  1.90   94\n",
      "2  1.50   65\n"
     ]
    }
   ],
   "source": [
    "print wine"
   ]
  },
  {
   "cell_type": "code",
   "execution_count": 85,
   "metadata": {
    "collapsed": false
   },
   "outputs": [
    {
     "ename": "NameError",
     "evalue": "name 'data_H' is not defined",
     "output_type": "error",
     "traceback": [
      "\u001b[0;31m---------------------------------------------------------------------------\u001b[0m",
      "\u001b[0;31mNameError\u001b[0m                                 Traceback (most recent call last)",
      "\u001b[0;32m<ipython-input-85-facc7b2cea94>\u001b[0m in \u001b[0;36m<module>\u001b[0;34m()\u001b[0m\n\u001b[0;32m----> 1\u001b[0;31m \u001b[0mdata_lnH\u001b[0m \u001b[0;34m=\u001b[0m \u001b[0mnp\u001b[0m\u001b[0;34m.\u001b[0m\u001b[0mlog\u001b[0m\u001b[0;34m(\u001b[0m\u001b[0mdata_H\u001b[0m\u001b[0;34m)\u001b[0m\u001b[0;34m\u001b[0m\u001b[0m\n\u001b[0m\u001b[1;32m      2\u001b[0m \u001b[0mdata_1devT\u001b[0m \u001b[0;34m=\u001b[0m \u001b[0mnp\u001b[0m\u001b[0;34m.\u001b[0m\u001b[0mreciprocal\u001b[0m\u001b[0;34m(\u001b[0m\u001b[0mdata_T\u001b[0m\u001b[0;34m)\u001b[0m\u001b[0;34m\u001b[0m\u001b[0m\n\u001b[1;32m      3\u001b[0m \u001b[0mdata_lnHerr\u001b[0m \u001b[0;34m=\u001b[0m \u001b[0mnp\u001b[0m\u001b[0;34m.\u001b[0m\u001b[0mreciprocal\u001b[0m\u001b[0;34m(\u001b[0m\u001b[0mdata_H\u001b[0m\u001b[0;34m)\u001b[0m\u001b[0;34m*\u001b[0m\u001b[0mdata_Herr\u001b[0m\u001b[0;34m[\u001b[0m\u001b[0;36m0\u001b[0m\u001b[0;34m]\u001b[0m\u001b[0;34m\u001b[0m\u001b[0m\n\u001b[1;32m      4\u001b[0m \u001b[0mdata_1devTerr\u001b[0m \u001b[0;34m=\u001b[0m \u001b[0mnp\u001b[0m\u001b[0;34m.\u001b[0m\u001b[0mreciprocal\u001b[0m\u001b[0;34m(\u001b[0m\u001b[0mdata_1devT\u001b[0m\u001b[0;34m**\u001b[0m\u001b[0;36m2\u001b[0m\u001b[0;34m)\u001b[0m\u001b[0;34m*\u001b[0m\u001b[0mdata_Terr\u001b[0m\u001b[0;34m[\u001b[0m\u001b[0;36m0\u001b[0m\u001b[0;34m]\u001b[0m\u001b[0;34m\u001b[0m\u001b[0m\n",
      "\u001b[0;31mNameError\u001b[0m: name 'data_H' is not defined"
     ]
    }
   ],
   "source": [
    "data_lnH = np.log(data_H)\n",
    "data_1devT = np.reciprocal(data_T)\n",
    "data_lnHerr = np.reciprocal(data_H)*data_Herr[0]\n",
    "data_1devTerr = np.reciprocal(data_1devT**2)*data_Terr[0]"
   ]
  },
  {
   "cell_type": "markdown",
   "metadata": {},
   "source": [
    "$$Standard~deviation~y~is:~~ err_y{(w_0, w_1)}=\\sqrt{\\sum\\limits_{i=1}^n [(y_i-w_0-{w_1}x_i)^2]} $$ "
   ]
  },
  {
   "cell_type": "code",
   "execution_count": 86,
   "metadata": {
    "collapsed": false
   },
   "outputs": [],
   "source": [
    "def err_y(w):\n",
    "    \n",
    "    sum = 0.0\n",
    "    i = 0\n",
    "    n = data_D.size if data_D.size <= data_1P.size else data_1P.size\n",
    "    \n",
    "    while i <= n-1:\n",
    "        \n",
    "        sum = sum + ((data_D[i]-w[0]-w[1]*data_1P[i])**2) \n",
    "        \n",
    "        i=i+1\n",
    "    return sum"
   ]
  },
  {
   "cell_type": "code",
   "execution_count": 87,
   "metadata": {
    "collapsed": false
   },
   "outputs": [
    {
     "name": "stdout",
     "output_type": "stream",
     "text": [
      "[ 0.0976699   0.01887145]\n",
      "randomize sigma y = 0.0108088305247\n"
     ]
    }
   ],
   "source": [
    "x0 = [0.0, 0.0]\n",
    "bnds = [[-100000.0, 1000000.0], [-100000.0, 1000000.0]]\n",
    "turp = opt.minimize(err_y, x0, method = 'L-BFGS-B', bounds=bnds)\n",
    "print turp.x\n",
    "\n",
    "n = data_D.size if data_D.size <= data_1P.size else data_1P.size\n",
    "\n",
    "print 'randomize sigma y =', math.sqrt(err_y(turp.x))/(n*(n-1))"
   ]
  },
  {
   "cell_type": "code",
   "execution_count": 88,
   "metadata": {
    "collapsed": false
   },
   "outputs": [],
   "source": [
    "def average(arr):\n",
    "    av = 0.0\n",
    "    iv = 0\n",
    "    n = arr.size-1\n",
    "    while iv<=n:\n",
    "        av = av + (arr[iv])\n",
    "        iv=iv+1\n",
    "    av = av/n\n",
    "    return av "
   ]
  },
  {
   "cell_type": "markdown",
   "metadata": {},
   "source": [
    "$$Standard~randomize~deviation~w_1~is:~~ \\sigma_{w_1}{(w_0, w_1)}=\\frac{1}{\\sqrt{n}}\\sqrt{{\\frac{\\langle{y^2}\\rangle-\\langle{y}\\rangle^2}{\\langle{x^{2}}\\rangle-\\langle{x}\\rangle^2}-w_1^2}} $$ \n",
    "$$Standart~randomize~deviation~w_0~is:~~ \\sigma_{w_0}{(w_0, w_1)}=\\sigma_{w_1}{(w_0, w_1)}\\sqrt{\\langle{x^2}\\rangle-\\langle{x}\\rangle^2}$$"
   ]
  },
  {
   "cell_type": "code",
   "execution_count": 91,
   "metadata": {
    "collapsed": false,
    "scrolled": false
   },
   "outputs": [
    {
     "name": "stdout",
     "output_type": "stream",
     "text": [
      "\n"
     ]
    }
   ],
   "source": [
    "def sigma_w(w): #randomize deviation\n",
    "    \n",
    "    sigma__w = [0, 0]\n",
    "    n = data_D.size if data_D.size <= data_1P.size else data_1P.size\n",
    "        \n",
    "    sigma__w[1] = math.sqrt(math.fabs((((average(data_D**2)-average(data_D)**2)/\n",
    "                             (average(data_1P**2)-(average(data_1P))**2))-w[1]**2)/n))\n",
    "    sigma__w[0] = sigma__w[1]*math.sqrt(math.fabs(average(data_1P**2)-(average(data_1P))**2))\n",
    "    \n",
    "    return (sigma__w)"
   ]
  },
  {
   "cell_type": "code",
   "execution_count": 51,
   "metadata": {
    "collapsed": false
   },
   "outputs": [],
   "source": [
    "def sigma_wf(w): #randromize + statistical deviation\n",
    "    \n",
    "    sigma__wf = []\n",
    "    j=0\n",
    "    n = data_lnN.size if data_lnN.size <= data_T.size else data_T.size\n",
    "    while j<=n-1:\n",
    "        sigma__wf.append(0)\n",
    "        j=j+1\n",
    "        \n",
    "    k = 0\n",
    "    \n",
    "    while k <= n-1:\n",
    "        sigma__wf[k] = math.sqrt((data_lnNerr[0]/data_lnN[k])**2+(data_Terr[0]/data_T[k])**2)\n",
    "        k = k + 1\n",
    "    \n",
    "    sigma__stat = average(np.array(sigma__wf))\n",
    "    \n",
    "    sigma__wf[1] = w[1]*sigma__stat\n",
    "    \n",
    "    sigma__w = [0, 0]\n",
    "        \n",
    "    sigma__w[1] = math.sqrt(math.fabs((((average(data_lnN**2)-average(data_lnN)**2)/\n",
    "                             (average(data_T**2)-(average(data_T))**2))-w[1]**2)/n))\n",
    "    sigma__w[1] = math.sqrt(sigma__wf[1]**2+sigma__w[1]**2)\n",
    "    sigma__w[0] = sigma__w[1]*math.sqrt(math.fabs(average(data_T**2)-(average(data_T))**2))\n",
    "    \n",
    "    return (sigma__w)"
   ]
  },
  {
   "cell_type": "code",
   "execution_count": 92,
   "metadata": {
    "collapsed": false
   },
   "outputs": [
    {
     "name": "stdout",
     "output_type": "stream",
     "text": [
      "sigma rand =  [0.13184096330550524, 0.003002839029319992]\n",
      "sigma full =  [nan, nan]\n"
     ]
    }
   ],
   "source": [
    "print 'sigma rand = ', sigma_w(turp.x)\n",
    "print 'sigma full = ', sigma_wf(turp.x)"
   ]
  },
  {
   "cell_type": "markdown",
   "metadata": {},
   "source": [
    "$$Pearson's~chi-squared~test:~~ \\chi{(w_0, w_1)}=\\sum\\limits_{i=2}^n \\frac{[(y_i-w_0-{w_1}x_i)^2+{\\sigma_y}^2+{w_1\\sigma_x}^2]}{(w_0+{w_1}x_i)}$$ "
   ]
  },
  {
   "cell_type": "code",
   "execution_count": 37,
   "metadata": {
    "collapsed": false
   },
   "outputs": [
    {
     "name": "stdout",
     "output_type": "stream",
     "text": [
      "\n"
     ]
    }
   ],
   "source": [
    "def chi(w): #turple #not work\n",
    "    sum = 0.0\n",
    "    i = 0\n",
    "    n = data_lnN.size if data_lnN.size <= data_T.size else data_T.size\n",
    "    while i <= n-1:\n",
    "        if (data_T[i]*w[1]+w[0]) != 0:\n",
    "            sum=sum+(((data_lnN[i]-(w[0]+w[1]*data_T[i]))**2)+((data_lnNerr[0])**2) +\n",
    "                     ((w[1]*data_Terr[0])**2))/(w[0]+w[1]*data_T[i])\n",
    "        i=i+1\n",
    "    return sum"
   ]
  },
  {
   "cell_type": "code",
   "execution_count": 64,
   "metadata": {
    "collapsed": false
   },
   "outputs": [
    {
     "name": "stdout",
     "output_type": "stream",
     "text": [
      "chi =  -0.0637478871792\n"
     ]
    }
   ],
   "source": [
    "print 'chi = ', chi(turp.x)"
   ]
  },
  {
   "cell_type": "code",
   "execution_count": null,
   "metadata": {
    "collapsed": true
   },
   "outputs": [],
   "source": []
  }
 ],
 "metadata": {
  "kernelspec": {
   "display_name": "Python 2",
   "language": "python",
   "name": "python2"
  },
  "language_info": {
   "codemirror_mode": {
    "name": "ipython",
    "version": 2
   },
   "file_extension": ".py",
   "mimetype": "text/x-python",
   "name": "python",
   "nbconvert_exporter": "python",
   "pygments_lexer": "ipython2",
   "version": "2.7.11"
  }
 },
 "nbformat": 4,
 "nbformat_minor": 0
}
